{
 "cells": [
  {
   "cell_type": "code",
   "execution_count": 1,
   "id": "0b682c9c",
   "metadata": {},
   "outputs": [
    {
     "name": "stdout",
     "output_type": "stream",
     "text": [
      "Enter the Element which you want to search: 60\n",
      "[94, 96, 98]\n",
      "Element Found at index: -1\n"
     ]
    }
   ],
   "source": [
    "from turtle import right\n",
    "import random\n",
    "def Binary_search(Ordered_list,Number_to_find,Left_index,Right_index):\n",
    "     if Right_index>=Left_index:\n",
    "        \n",
    "        Mid_Index = (Left_index + Right_index) // 2\n",
    "        Mid_Value = Ordered_list[Mid_Index]\n",
    "        if Mid_Value == Number_to_find:\n",
    "            return Mid_Index\n",
    "        if Mid_Value > Number_to_find:\n",
    "            return Binary_search(Ordered_list,Number_to_find,Left_index,Mid_Index-1)\n",
    "        else:\n",
    "            return Binary_search(Ordered_list,Number_to_find,Mid_Index+1,Right_index)\n",
    "     else:\n",
    "         return -1\n",
    "n = random.randint(0,100)   \n",
    "Pivot = int(input(\"Enter the Element which you want to search: \"))\n",
    "List1 = [i for i in range(n,100,2)]\n",
    "print(List1)\n",
    "print(\"Element Found at index:\",Binary_search(List1,Pivot,0,len(List1)-1))"
   ]
  }
 ],
 "metadata": {
  "kernelspec": {
   "display_name": "Python 3 (ipykernel)",
   "language": "python",
   "name": "python3"
  },
  "language_info": {
   "codemirror_mode": {
    "name": "ipython",
    "version": 3
   },
   "file_extension": ".py",
   "mimetype": "text/x-python",
   "name": "python",
   "nbconvert_exporter": "python",
   "pygments_lexer": "ipython3",
   "version": "3.9.7"
  }
 },
 "nbformat": 4,
 "nbformat_minor": 5
}
